{
 "cells": [
  {
   "cell_type": "code",
   "execution_count": null,
   "metadata": {
    "collapsed": true
   },
   "outputs": [],
   "source": [
    "import pandas as pd\n",
    "import seaborn as sns\n",
    "import matplotlib.pyplot as plt\n",
    "%matplotlib inline\n",
    "df_ori = pd.DataFrame({\n",
    "    'Type': ['HMS','HMS','HMS','HMS','HMS','De-ID','De-ID','De-ID','De-ID','De-ID','PHI-Reducer','PHI-Reducer','PHI-Reducer','PHI-Reducer','PHI-Reducer'],\n",
    "    'Precision':[80,90,77.14,86.54,82.86,61.9,44.62,42.93,44.73,45.71,16.2,12.93,16.08,15.99,15.85],\n",
    "    'Recall':[9.3,7.44,5.29,6.28,6.68,15.12,15.98,15.49,14.78,16.59,53.49,46.56,47.06,45.89,45.16],\n",
    "    'Percentage':[90,80,70,60,50,90,80,70,60,50,90,80,70,60,50]\n",
    "})\n",
    "\n",
    "df_mod = pd.DataFrame({\n",
    "    'Type': ['HMS','HMS','HMS','HMS','HMS','De-ID','De-ID','De-ID','De-ID','De-ID','PHI-Reducer','PHI-Reducer','PHI-Reducer','PHI-Reducer','PHI-Reducer'],\n",
    "    'Precision':[13.87,14.34,12.93,12.28,14.07,14.03,14.52,15.53,14.31,15.19,15.4,13.19,14.83,14.79,14.62],\n",
    "    'Recall':[44.77,38.57,31.37,29.85,29.49,45.93,43.8,40,37.66,41.94,57.56,51.79,50,48.68,47.93],\n",
    "    'Percentage':[90,80,70,60,50,90,80,70,60,50,90,80,70,60,50]\n",
    "})\n",
    "\n",
    "sns.set()\n",
    "sns.set_style(\"whitegrid\")"
   ]
  },
  {
   "cell_type": "code",
   "execution_count": null,
   "metadata": {
    "collapsed": true
   },
   "outputs": [],
   "source": [
    "fig, (ax1, ax2) = plt.subplots(ncols=2, sharey=True,figsize=(15,5))\n",
    "c_map = sns.cubehelix_palette(5,start=.5,gamma=0.6)\n",
    "g1 = sns.barplot(x=\"Type\", y=\"Recall\", data=df_ori,palette=c_map,hue=\"Percentage\",ax=ax1)\n",
    "g2 = sns.barplot(x=\"Type\", y=\"Recall\", data=df_mod,palette=c_map,hue=\"Percentage\",ax=ax2)\n",
    "g1.set_xlabel('# Original Scrubber')\n",
    "g2.set_xlabel('# Modified Scrubber')"
   ]
  }
 ],
 "metadata": {
  "kernelspec": {
   "display_name": "Python 2",
   "language": "python",
   "name": "python2"
  },
  "language_info": {
   "codemirror_mode": {
    "name": "ipython",
    "version": 2
   },
   "file_extension": ".py",
   "mimetype": "text/x-python",
   "name": "python",
   "nbconvert_exporter": "python",
   "pygments_lexer": "ipython2",
   "version": "2.7.14"
  }
 },
 "nbformat": 4,
 "nbformat_minor": 2
}
