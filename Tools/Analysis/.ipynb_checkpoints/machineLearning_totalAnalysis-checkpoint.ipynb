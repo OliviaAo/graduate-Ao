{
 "cells": [
  {
   "cell_type": "code",
   "execution_count": null,
   "metadata": {
    "collapsed": true
   },
   "outputs": [],
   "source": [
    "import pandas as pd\n",
    "import seaborn as sns\n",
    "import matplotlib.pyplot as plt\n",
    "%matplotlib inline\n",
    "df_mist = pd.DataFrame({\n",
    "    'Iteration':[5,5,5,5,5,10,10,10,10,10,15,15,15,15,15,20,20,20,20,20],\n",
    "    'Precision':[55.38,27.24,28.76,65.26,54.74,54.47,46.45,62.46,55.26,67.74,61.63,51.09,58.74,58.99,65.46,59.55,59.72,54.01,57.05,63.17],\n",
    "    'Recall':[41.86,40.22,39.02,36.68,45.28,38.95,43.25,38.82,40.31,46.2,30.81,38.84,30.98,35.7,37.56,30.81,34.71,30.39,35.01,33.99],\n",
    "    'Percentage':[90,80,70,60,50,90,80,70,60,50,90,80,70,60,50] \n",
    "})\n",
    "\n",
    "\n",
    "\n"
   ]
  }
 ],
 "metadata": {
  "kernelspec": {
   "display_name": "Python 2",
   "language": "python",
   "name": "python2"
  },
  "language_info": {
   "codemirror_mode": {
    "name": "ipython",
    "version": 2
   },
   "file_extension": ".py",
   "mimetype": "text/x-python",
   "name": "python",
   "nbconvert_exporter": "python",
   "pygments_lexer": "ipython2",
   "version": "2.7.14"
  }
 },
 "nbformat": 4,
 "nbformat_minor": 2
}
