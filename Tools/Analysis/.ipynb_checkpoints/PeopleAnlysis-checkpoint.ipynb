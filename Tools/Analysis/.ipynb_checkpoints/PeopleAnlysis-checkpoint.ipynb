{
 "cells": [
  {
   "cell_type": "code",
   "execution_count": null,
   "metadata": {
    "collapsed": true
   },
   "outputs": [],
   "source": [
    "import pandas as pd\n",
    "import seaborn as sns\n",
    "import matplotlib.pyplot as plt\n",
    "%matplotlib inline\n",
    "df_ori = pd.DataFrame({\n",
    "    'Type': ['HMS','HMS','HMS','HMS','HMS','De-ID','De-ID','De-ID','De-ID','De-ID'],\n",
    "    'Precision':[88.89,96.43,87.1,93.75,86.57,74.19,78.57,78.89,84.62,79.17],\n",
    "    'Recall':[19.51,17.2,12.44,15,16.57,28.05,35.03,32.72,33,38],\n",
    "    'Percentage':[90,80,70,60,50,90,80,70,60,50]\n",
    "})\n",
    "\n",
    "df_mod = pd.DataFrame({\n",
    "    'Type': ['HMS','HMS','HMS','HMS','HMS','De-ID','De-ID','De-ID','De-ID','De-ID'],\n",
    "    'Precision':[27.08,23.99,19.42,20.93,22.17,38.55,37.43,36.03,34.62,37.01],\n",
    "    'Recall':[47.56,41.4,34.1,37.67,39.14,78.05,81.53,82.03,77.67,83.43],\n",
    "    'Percentage':[90,80,70,60,50,90,80,70,60,50]\n",
    "})\n",
    "\n",
    "sns.set()\n",
    "sns.set_style(\"whitegrid\")"
   ]
  },
  {
   "cell_type": "code",
   "execution_count": null,
   "metadata": {
    "collapsed": true
   },
   "outputs": [],
   "source": [
    "fig, (ax1, ax2) = plt.subplots(ncols=2, sharey=True,figsize=(15,5))\n",
    "c_map = sns.cubehelix_palette(5,start=.5,gamma=0.6)\n",
    "g1 = sns.barplot(x=\"Type\", y=\"Precision\", data=df_ori,palette=c_map,hue=\"Percentage\",ax=ax1)\n",
    "g2 = sns.barplot(x=\"Type\", y=\"Precision\", data=df_mod,palette=c_map,hue=\"Percentage\",ax=ax2)\n",
    "g1.set_xlabel('# Original Scrubber')\n",
    "g2.set_xlabel('# Modified Scrubber')"
   ]
  },
  {
   "cell_type": "code",
   "execution_count": null,
   "metadata": {
    "collapsed": true
   },
   "outputs": [],
   "source": [
    "fig, (ax1, ax2) = plt.subplots(ncols=2, sharey=True,figsize=(15,5))\n",
    "c_map = sns.cubehelix_palette(5,start=.5,gamma=0.6)\n",
    "g1 = sns.barplot(x=\"Type\", y=\"Recall\", data=df_ori,palette=c_map,hue=\"Percentage\",ax=ax1)\n",
    "g2 = sns.barplot(x=\"Type\", y=\"Recall\", data=df_mod,palette=c_map,hue=\"Percentage\",ax=ax2)\n",
    "g1.set_xlabel('# Original Scrubber')\n",
    "g2.set_xlabel('# Modified Scrubber')"
   ]
  }
 ],
 "metadata": {
  "kernelspec": {
   "display_name": "Python 2",
   "language": "python",
   "name": "python2"
  },
  "language_info": {
   "codemirror_mode": {
    "name": "ipython",
    "version": 2
   },
   "file_extension": ".py",
   "mimetype": "text/x-python",
   "name": "python",
   "nbconvert_exporter": "python",
   "pygments_lexer": "ipython2",
   "version": "2.7.14"
  }
 },
 "nbformat": 4,
 "nbformat_minor": 2
}
